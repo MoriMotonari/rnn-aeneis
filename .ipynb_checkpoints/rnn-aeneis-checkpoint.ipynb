{
 "cells": [
  {
   "cell_type": "markdown",
   "metadata": {},
   "source": [
    "# Recurrent Neural Network trained on Aeneis\n",
    "\n",
    "This project is based on Siraj Raval's [\"Recurrent Neural Network - The Math of Intelligence (Week 5)\"](https://www.youtube.com/watch?v=BwmddtPFWtA) Video. [This](https://github.com/llSourcell/recurrent_neural_network/blob/master/RNN.ipynb) is his Jupyter Notebook which is based on Andrej Karpathy's [Code](https://gist.github.com/karpathy/d4dee566867f8291f086)\n",
    "\n",
    "## The code contains 4 parts\n",
    "* Load the trainning data\n",
    "  * encode char into vectors\n",
    "* Define the Recurrent Network\n",
    "* Define a loss function\n",
    "  * Forward pass\n",
    "  * Loss\n",
    "  * Backward pass\n",
    "* Define a function to visualize samples from the model\n",
    "* Train the network\n",
    "  * Feed the network\n",
    "  * Calculate gradient and update the model parameters\n",
    "  * Output a text to see the progress of the training\n",
    "  \n",
    "## Loading the data\n",
    "\n",
    "In this case I am using Virgil's Aeneis as training data, which I got from [gutenberg.org](http://www.gutenberg.org/ebooks/227)."
   ]
  },
  {
   "cell_type": "code",
   "execution_count": 1,
   "metadata": {},
   "outputs": [
    {
     "name": "stdout",
     "output_type": "stream",
     "text": [
      "Virgil's Aeneis is 484506 characters long including 82 unique ones.\n"
     ]
    }
   ],
   "source": [
    "data = open('aeneis.txt').read()\n",
    "\n",
    "chars = list(set(data))\n",
    "data_size, vocab_size = len(data), len(chars)\n",
    "print(f'Virgil\\'s Aeneis is {data_size} characters long including {len(chars)} unique ones.')"
   ]
  },
  {
   "cell_type": "markdown",
   "metadata": {},
   "source": [
    "### encoding/decoding\n",
    "\n",
    "#### First let's create two dictionaries"
   ]
  },
  {
   "cell_type": "code",
   "execution_count": 2,
   "metadata": {},
   "outputs": [
    {
     "name": "stdout",
     "output_type": "stream",
     "text": [
      "{'1': 0, 't': 1, 'K': 2, ':': 3, 'e': 4, 'H': 5, '5': 6, 'N': 7, '/': 8, 'O': 9, 'w': 10, ';': 11, 'g': 12, 'i': 13, 'V': 14, 'z': 15, 'S': 16, 'y': 17, 'G': 18, ',': 19, '?': 20, '-': 21, 'x': 22, 'v': 23, 'R': 24, '[': 25, '8': 26, '9': 27, '3': 28, 'r': 29, 's': 30, '(': 31, '@': 32, '!': 33, 'J': 34, 'd': 35, ')': 36, 'k': 37, ']': 38, '*': 39, 'q': 40, 'A': 41, '2': 42, 'Y': 43, 'f': 44, 'j': 45, 'B': 46, 'l': 47, 'o': 48, 'b': 49, '\"': 50, 'P': 51, 'Z': 52, '$': 53, 'a': 54, 'n': 55, 'm': 56, '.': 57, 'D': 58, '6': 59, 'L': 60, '0': 61, 'U': 62, 'W': 63, 'T': 64, 'I': 65, 'M': 66, '%': 67, '7': 68, '4': 69, 'c': 70, 'E': 71, \"'\": 72, 'X': 73, '\\n': 74, 'Q': 75, 'C': 76, ' ': 77, 'p': 78, 'u': 79, 'F': 80, 'h': 81}\n",
      "{0: '1', 1: 't', 2: 'K', 3: ':', 4: 'e', 5: 'H', 6: '5', 7: 'N', 8: '/', 9: 'O', 10: 'w', 11: ';', 12: 'g', 13: 'i', 14: 'V', 15: 'z', 16: 'S', 17: 'y', 18: 'G', 19: ',', 20: '?', 21: '-', 22: 'x', 23: 'v', 24: 'R', 25: '[', 26: '8', 27: '9', 28: '3', 29: 'r', 30: 's', 31: '(', 32: '@', 33: '!', 34: 'J', 35: 'd', 36: ')', 37: 'k', 38: ']', 39: '*', 40: 'q', 41: 'A', 42: '2', 43: 'Y', 44: 'f', 45: 'j', 46: 'B', 47: 'l', 48: 'o', 49: 'b', 50: '\"', 51: 'P', 52: 'Z', 53: '$', 54: 'a', 55: 'n', 56: 'm', 57: '.', 58: 'D', 59: '6', 60: 'L', 61: '0', 62: 'U', 63: 'W', 64: 'T', 65: 'I', 66: 'M', 67: '%', 68: '7', 69: '4', 70: 'c', 71: 'E', 72: \"'\", 73: 'X', 74: '\\n', 75: 'Q', 76: 'C', 77: ' ', 78: 'p', 79: 'u', 80: 'F', 81: 'h'}\n"
     ]
    }
   ],
   "source": [
    "char_to_ix = { ch:i for i,ch in enumerate(chars)}\n",
    "ix_to_char = { i:ch for i, ch in enumerate(chars)}\n",
    "print(char_to_ix)\n",
    "print(ix_to_char)"
   ]
  },
  {
   "cell_type": "markdown",
   "metadata": {},
   "source": [
    "#### Now, let's make a function to create vectors from characters"
   ]
  },
  {
   "cell_type": "code",
   "execution_count": 3,
   "metadata": {
    "scrolled": true
   },
   "outputs": [
    {
     "name": "stdout",
     "output_type": "stream",
     "text": [
      "[0. 0. 0. 0. 0. 0. 0. 0. 0. 0. 0. 0. 0. 0. 0. 0. 0. 0. 0. 0. 0. 0. 0. 0.\n",
      " 0. 0. 0. 0. 0. 0. 0. 0. 0. 0. 0. 0. 0. 0. 0. 0. 0. 0. 0. 0. 0. 0. 0. 0.\n",
      " 0. 0. 0. 0. 0. 0. 1. 0. 0. 0. 0. 0. 0. 0. 0. 0. 0. 0. 0. 0. 0. 0. 0. 0.\n",
      " 0. 0. 0. 0. 0. 0. 0. 0. 0. 0.]\n"
     ]
    },
    {
     "data": {
      "text/plain": [
       "2"
      ]
     },
     "execution_count": 3,
     "metadata": {},
     "output_type": "execute_result"
    }
   ],
   "source": [
    "import numpy as np\n",
    "def vec_from_char(char):\n",
    "    # two-dimensional!\n",
    "    vector = np.zeros((vocab_size, 1))\n",
    "    vector[char_to_ix[char]][0] = 1\n",
    "    return vector\n",
    "\n",
    "print(vec_from_char('a').ravel())\n",
    "len(vec_from_char('a').shape)"
   ]
  },
  {
   "cell_type": "markdown",
   "metadata": {},
   "source": [
    "#### Now, let's make a function to decode those vectors"
   ]
  },
  {
   "cell_type": "code",
   "execution_count": 4,
   "metadata": {
    "scrolled": true
   },
   "outputs": [
    {
     "data": {
      "text/plain": [
       "'a'"
      ]
     },
     "execution_count": 4,
     "metadata": {},
     "output_type": "execute_result"
    }
   ],
   "source": [
    "import numpy as np\n",
    "def char_from_vec(vec):\n",
    "    # one-dimensional!\n",
    "    if len(vec.shape) == 2:\n",
    "        vec = vec.ravel()\n",
    "    index = int(np.where(vec == 1)[0])\n",
    "    return ix_to_char[index]\n",
    "\n",
    "char_from_vec(vec_from_char('a'))"
   ]
  },
  {
   "cell_type": "markdown",
   "metadata": {},
   "source": [
    "## Definition of the Network"
   ]
  },
  {
   "cell_type": "code",
   "execution_count": 5,
   "metadata": {},
   "outputs": [],
   "source": [
    "# hyper parameters\n",
    "\n",
    "hidden_size = 100\n",
    "seq_length = 25\n",
    "learning_rate = 1e-1"
   ]
  },
  {
   "cell_type": "code",
   "execution_count": 6,
   "metadata": {},
   "outputs": [],
   "source": [
    "# model parameters\n",
    "\n",
    "# weights from the standard normal distribution\n",
    "# multiply by 0.01 to scale the values for character level RNNs\n",
    "\n",
    "Wxh = np.random.randn(hidden_size, vocab_size) * 0.01 # input to hidden\n",
    "Whh = np.random.randn(hidden_size, hidden_size) * 0.01 # input to hidden\n",
    "Why = np.random.randn(vocab_size, hidden_size) * 0.01 # input to hidden\n",
    "\n",
    "# biases are initialised as zero\n",
    "\n",
    "bh = np.zeros((hidden_size, 1))\n",
    "by = np.zeros((vocab_size, 1))"
   ]
  },
  {
   "cell_type": "markdown",
   "metadata": {},
   "source": [
    "## Loss function\n",
    "\n",
    "### forward\n",
    "\n",
    "**pseudo code**\n",
    "\n",
    "```python\n",
    "hidden = tanh(weights_input_hidden * input + weights_hidden_hidden * previous_hidden + biases_hidden)\n",
    "\n",
    "output = weights_hidden_output * hidden + biases_hidden\n",
    "\n",
    "normalized_probabilities = e^(output) / sum(e^(output))\n",
    "```\n",
    "\n",
    "**implementation**\n",
    "\n",
    "```python\n",
    "hs[t] = np.tanh(np.dot(Wxh, xs[t]) + np.dot(Whh, hs[t-1]) + bh) # hidden state\n",
    "\n",
    "ys[t] = np.dot(Why, hs[t]) + by # unnormalized log probabilities for next chars\n",
    "\n",
    "ps[t] = np.exp(ys[t]) / np.sum(np.exp(ys[t])) # probabilities for next chars\n",
    "```\n",
    "\n",
    "### loss\n",
    "\n",
    "the loss of one prediction equals `-log(normalized_prediction_at_true_index)`, which comes from the [cross-entropy loss](https://ml-cheatsheet.readthedocs.io/en/latest/loss_functions.html#cross-entropy), but only checking the prediction of the true index (where y == 1)"
   ]
  },
  {
   "cell_type": "code",
   "execution_count": 7,
   "metadata": {},
   "outputs": [],
   "source": [
    "def lossF(inputs, targets, hprev):\n",
    "    \"\"\"\n",
    "    inputs, targets are both lists of integers of the same length.\n",
    "    hprev is Hx1 array of initial hidden state\n",
    "    returns the loss, gradients on model parameters, and last hidden state\n",
    "    \"\"\"\n",
    "    #store our inputs, hidden states, outputs, and probability values\n",
    "    xs, hs, ys, ps, = {}, {}, {}, {} # Empty dicts\n",
    "    # Each of these are going to be SEQ_LENGTH(Here 25) long dicts i.e. 1 vector per time(seq) step\n",
    "    # xs will store 1 hot encoded input characters for each of 25 time steps (vocab_size, 25 times)\n",
    "    # hs will store hidden state outputs for 25 time steps (100, 25 times)) plus a -1 indexed initial state\n",
    "    # to calculate the hidden state at t = 0\n",
    "    # ys will store targets i.e. expected outputs for 25 times (vocab_size, 25 times), unnormalized probabs\n",
    "    # ps will take the ys and convert them to normalized probab for chars\n",
    "    \n",
    "    # We could have used lists BUT we need an entry with -1 to calc the 0th hidden layer\n",
    "    # -1 as  a list index would wrap around to the final element\n",
    "    \n",
    "    # init with previous hidden state\n",
    "    # Using \"=\" would create a reference, this creates a whole separate copy\n",
    "    # We don't want hs[-1] to automatically change if hprev is changed\n",
    "    hs[-1] = np.copy(hprev)\n",
    "    # init loss as 0\n",
    "    loss = 0\n",
    "    # FORWARD\n",
    "    for t in range(len(inputs)):\n",
    "        xs[t] = vec_from_char(ix_to_char[inputs[t]])\n",
    "        hs[t] = np.tanh(np.dot(Wxh, xs[t]) + np.dot(Whh, hs[t-1]) + bh) # hidden state\n",
    "        ys[t] = np.dot(Why, hs[t]) + by # unnormalized log probabilities for next chars\n",
    "        ps[t] = np.exp(ys[t]) / np.sum(np.exp(ys[t])) # normalized probabilities for next chars\n",
    "        # separate variables for clarity\n",
    "        true_index = targets[t]\n",
    "        this_loss = -np.log(ps[t][true_index][0])\n",
    "        loss += this_loss\n",
    "        \n",
    "    # backward pass: compute gradients going backwards\n",
    "    #initalize vectors for gradient values for each set of weights\n",
    "    dWxh, dWhh, dWhy = np.zeros_like(Wxh), np.zeros_like(Whh), np.zeros_like(Why)\n",
    "    dbh, dby = np.zeros_like(bh), np.zeros_like(by)\n",
    "    dhnext = np.zeros_like(hs[0])\n",
    "    for t in reversed(range(len(inputs))):\n",
    "        #output probabilities\n",
    "        dy = np.copy(ps[t])\n",
    "        #derive our first gradient\n",
    "        dy[targets[t]] -= 1 # backprop into y\n",
    "        #compute output gradient -  output times hidden states transpose\n",
    "        #When we apply the transpose weight matrix,\n",
    "        #we can think intuitively of this as moving the error backward\n",
    "        #through the network, giving us some sort of measure of the error\n",
    "        #at the output of the lth layer.\n",
    "        #output gradient\n",
    "        dWhy += np.dot(dy, hs[t].T)\n",
    "        #derivative of output bias\n",
    "        dby += dy\n",
    "        #backpropagate!\n",
    "        dh = np.dot(Why.T, dy) + dhnext # backprop into h\n",
    "        dhraw = (1 - hs[t] * hs[t]) * dh # backprop through tanh nonlinearity\n",
    "        dbh += dhraw #derivative of hidden bias\n",
    "        dWxh += np.dot(dhraw, xs[t].T) #derivative of input to hidden layer weight\n",
    "        dWhh += np.dot(dhraw, hs[t-1].T) #derivative of hidden layer to hidden layer weight\n",
    "        dhnext = np.dot(Whh.T, dhraw)\n",
    "    for dparam in [dWxh, dWhh, dWhy, dbh, dby]:\n",
    "        np.clip(dparam, -5, 5, out=dparam) # clip to mitigate exploding gradients\n",
    "    return loss, dWxh, dWhh, dWhy, dbh, dby, hs[len(inputs)-1]"
   ]
  },
  {
   "cell_type": "markdown",
   "metadata": {},
   "source": [
    "## Sample Function"
   ]
  },
  {
   "cell_type": "code",
   "execution_count": 8,
   "metadata": {},
   "outputs": [],
   "source": [
    "from matplotlib import pyplot as plt\n",
    "import seaborn as sns\n",
    "sns.set()"
   ]
  },
  {
   "cell_type": "code",
   "execution_count": 9,
   "metadata": {},
   "outputs": [
    {
     "data": {
      "image/png": "[encoded data removed]",
      "text/plain": [
       "<Figure size 432x288 with 1 Axes>"
      ]
     },
     "metadata": {
      "needs_background": "light"
     },
     "output_type": "display_data"
    },
    {
     "name": "stdout",
     "output_type": "stream",
     "text": [
      "----\n",
      "?@[4n@,46v@yl[K4m'$P9XP@hSb?m-fgDbof4wM uoHZYBh43/ tS\n",
      "eq!;n6l/0TqXMty0YODS*U7DxadjJu3E'H'mF:x42p0xuAAq0a6Sfi*sFcX1zg4EZ, C1D'm;YtNfL@Wxs:k(A6p0agObBnZ1w)*nW3$/?WT\n",
      "MvBk]9Ly-@hcZRR]fhJ58:(3On44)qam32y$P\n",
      "----\n"
     ]
    }
   ],
   "source": [
    "def sample(h, seed_ix, n, plot=False):\n",
    "    \"\"\" \n",
    "    sample a sequence of integers from the model \n",
    "    h is memory state, seed_ix is seed letter for first time step\n",
    "    \"\"\"\n",
    "    x = np.zeros((vocab_size, 1))\n",
    "    x[seed_ix] = 1\n",
    "    ixes = []\n",
    "    for t in range(n):\n",
    "        # feed forward\n",
    "        h = np.tanh(np.dot(Wxh, x) + np.dot(Whh, h) + bh)\n",
    "        y = np.dot(Why, h) + by\n",
    "        p = np.exp(y) / np.sum(np.exp(y))\n",
    "        # choose proportional to probabilty\n",
    "        ix = np.random.choice(range(vocab_size), p=p.ravel())\n",
    "        # set input to chosen character\n",
    "        x = np.zeros((vocab_size, 1))\n",
    "        x[ix] = 1\n",
    "        ixes.append(ix)\n",
    "    if plot:\n",
    "        last_p = p\n",
    "        plt.plot(p.ravel())\n",
    "        plt.show()\n",
    "        \n",
    "    txt = ''.join(ix_to_char[ix] for ix in ixes)\n",
    "    print(f'----\\n{txt}\\n----')\n",
    "    return ixes\n",
    "\n",
    "prediction = sample(np.zeros((hidden_size, 1)), char_to_ix['a'], 200, plot=True)"
   ]
  },
  {
   "cell_type": "markdown",
   "metadata": {},
   "source": [
    "## Training\n",
    "\n",
    "We're using [Adagrad](https://ml-cheatsheet.readthedocs.io/en/latest/optimizers.html?highlight=adagrad#adagrad)"
   ]
  },
  {
   "cell_type": "code",
   "execution_count": 10,
   "metadata": {
    "scrolled": false
   },
   "outputs": [
    {
     "name": "stdout",
     "output_type": "stream",
     "text": [
      "iter 0, loss: 110.17\n",
      "----\n",
      "*wZ GICiLxmkxpq/!f(adw*8qY59s :OGCY$82QFuAXGApbck\n",
      "3dM]p$sRd$RZ,r\"c:,DYfN-f!Zy-.G1F%dY,\"DYOjKKr;O2*DPo55uKR];ZNj';2N]Xo]]!.G\n",
      "m!aok?w4YrU/Uf7?T;IwGlf%r]]4YwAU.qx!CwdBe\"\n",
      "F@X04n(GKb$a$HJm6)b.bNU;z!9Ok(abF\n",
      "----\n",
      "iter 1000, loss: 85.57\n",
      "----\n",
      "te  ahas bepusqupioquas rafuebiiDromnis farduonesca li :. equenat pites\n",
      " Keomqus usHactridod, nTeranhhoa tenne. hroveriant ar,ce ,iramece venolenu. s rodora toraturihem psas mderunolnotves\n",
      " amassad re\n",
      "----\n"
     ]
    },
    {
     "ename": "KeyboardInterrupt",
     "evalue": "",
     "output_type": "error",
     "traceback": [
      "\u001b[0;31m---------------------------------------------------------------------------\u001b[0m",
      "\u001b[0;31mKeyboardInterrupt\u001b[0m                         Traceback (most recent call last)",
      "\u001b[0;32m<ipython-input-10-206be8bbf8aa>\u001b[0m in \u001b[0;36m<module>\u001b[0;34m\u001b[0m\n\u001b[1;32m     13\u001b[0m \u001b[0;34m\u001b[0m\u001b[0m\n\u001b[1;32m     14\u001b[0m     \u001b[0;31m# forward seq_length characters through the net and fetch gradient\u001b[0m\u001b[0;34m\u001b[0m\u001b[0;34m\u001b[0m\u001b[0;34m\u001b[0m\u001b[0m\n\u001b[0;32m---> 15\u001b[0;31m     \u001b[0mloss\u001b[0m\u001b[0;34m,\u001b[0m \u001b[0mdWxh\u001b[0m\u001b[0;34m,\u001b[0m \u001b[0mdWhh\u001b[0m\u001b[0;34m,\u001b[0m \u001b[0mdWhy\u001b[0m\u001b[0;34m,\u001b[0m \u001b[0mdbh\u001b[0m\u001b[0;34m,\u001b[0m \u001b[0mdby\u001b[0m\u001b[0;34m,\u001b[0m \u001b[0mhprev\u001b[0m \u001b[0;34m=\u001b[0m \u001b[0mlossF\u001b[0m\u001b[0;34m(\u001b[0m\u001b[0minputs\u001b[0m\u001b[0;34m,\u001b[0m \u001b[0mtargets\u001b[0m\u001b[0;34m,\u001b[0m \u001b[0mhprev\u001b[0m\u001b[0;34m)\u001b[0m\u001b[0;34m\u001b[0m\u001b[0;34m\u001b[0m\u001b[0m\n\u001b[0m\u001b[1;32m     16\u001b[0m     \u001b[0msmooth_loss\u001b[0m \u001b[0;34m=\u001b[0m \u001b[0msmooth_loss\u001b[0m \u001b[0;34m*\u001b[0m \u001b[0;36m0.999\u001b[0m \u001b[0;34m+\u001b[0m \u001b[0mloss\u001b[0m \u001b[0;34m*\u001b[0m \u001b[0;36m0.001\u001b[0m\u001b[0;34m\u001b[0m\u001b[0;34m\u001b[0m\u001b[0m\n\u001b[1;32m     17\u001b[0m \u001b[0;34m\u001b[0m\u001b[0m\n",
      "\u001b[0;32m<ipython-input-7-32c7e9b33fca>\u001b[0m in \u001b[0;36mlossF\u001b[0;34m(inputs, targets, hprev)\u001b[0m\n\u001b[1;32m     58\u001b[0m         \u001b[0mdbh\u001b[0m \u001b[0;34m+=\u001b[0m \u001b[0mdhraw\u001b[0m \u001b[0;31m#derivative of hidden bias\u001b[0m\u001b[0;34m\u001b[0m\u001b[0;34m\u001b[0m\u001b[0m\n\u001b[1;32m     59\u001b[0m         \u001b[0mdWxh\u001b[0m \u001b[0;34m+=\u001b[0m \u001b[0mnp\u001b[0m\u001b[0;34m.\u001b[0m\u001b[0mdot\u001b[0m\u001b[0;34m(\u001b[0m\u001b[0mdhraw\u001b[0m\u001b[0;34m,\u001b[0m \u001b[0mxs\u001b[0m\u001b[0;34m[\u001b[0m\u001b[0mt\u001b[0m\u001b[0;34m]\u001b[0m\u001b[0;34m.\u001b[0m\u001b[0mT\u001b[0m\u001b[0;34m)\u001b[0m \u001b[0;31m#derivative of input to hidden layer weight\u001b[0m\u001b[0;34m\u001b[0m\u001b[0;34m\u001b[0m\u001b[0m\n\u001b[0;32m---> 60\u001b[0;31m         \u001b[0mdWhh\u001b[0m \u001b[0;34m+=\u001b[0m \u001b[0mnp\u001b[0m\u001b[0;34m.\u001b[0m\u001b[0mdot\u001b[0m\u001b[0;34m(\u001b[0m\u001b[0mdhraw\u001b[0m\u001b[0;34m,\u001b[0m \u001b[0mhs\u001b[0m\u001b[0;34m[\u001b[0m\u001b[0mt\u001b[0m\u001b[0;34m-\u001b[0m\u001b[0;36m1\u001b[0m\u001b[0;34m]\u001b[0m\u001b[0;34m.\u001b[0m\u001b[0mT\u001b[0m\u001b[0;34m)\u001b[0m \u001b[0;31m#derivative of hidden layer to hidden layer weight\u001b[0m\u001b[0;34m\u001b[0m\u001b[0;34m\u001b[0m\u001b[0m\n\u001b[0m\u001b[1;32m     61\u001b[0m         \u001b[0mdhnext\u001b[0m \u001b[0;34m=\u001b[0m \u001b[0mnp\u001b[0m\u001b[0;34m.\u001b[0m\u001b[0mdot\u001b[0m\u001b[0;34m(\u001b[0m\u001b[0mWhh\u001b[0m\u001b[0;34m.\u001b[0m\u001b[0mT\u001b[0m\u001b[0;34m,\u001b[0m \u001b[0mdhraw\u001b[0m\u001b[0;34m)\u001b[0m\u001b[0;34m\u001b[0m\u001b[0;34m\u001b[0m\u001b[0m\n\u001b[1;32m     62\u001b[0m     \u001b[0;32mfor\u001b[0m \u001b[0mdparam\u001b[0m \u001b[0;32min\u001b[0m \u001b[0;34m[\u001b[0m\u001b[0mdWxh\u001b[0m\u001b[0;34m,\u001b[0m \u001b[0mdWhh\u001b[0m\u001b[0;34m,\u001b[0m \u001b[0mdWhy\u001b[0m\u001b[0;34m,\u001b[0m \u001b[0mdbh\u001b[0m\u001b[0;34m,\u001b[0m \u001b[0mdby\u001b[0m\u001b[0;34m]\u001b[0m\u001b[0;34m:\u001b[0m\u001b[0;34m\u001b[0m\u001b[0;34m\u001b[0m\u001b[0m\n",
      "\u001b[0;31mKeyboardInterrupt\u001b[0m: "
     ]
    }
   ],
   "source": [
    "n, p = 0, 0 # n is training step (of a 25 sequence), p is pointer within data\n",
    "mWxh, mWhh, mWhy = np.zeros_like(Wxh), np.zeros_like(Whh), np.zeros_like(Why)\n",
    "mbh, mby = np.zeros_like(bh), np.zeros_like(by) # memory variables for Adagrad\n",
    "smooth_loss = -np.log(1.0/vocab_size)*seq_length # loss at iteration 0\n",
    "while n <= 1000*100:\n",
    "    # prepare inputs (we're sweeping from left to right in steps seq_length long)\n",
    "    # check \"How to feed the loss function to see how this part works\n",
    "    if p+seq_length+1 >= len(data) or n == 0:\n",
    "        hprev = np.zeros((hidden_size,1)) # reset RNN memory\n",
    "        p = 0 # go from start of data\n",
    "    inputs = [char_to_ix[ch] for ch in data[p:p+seq_length]]\n",
    "    targets = [char_to_ix[ch] for ch in data[p+1:p+seq_length+1]]\n",
    "\n",
    "    # forward seq_length characters through the net and fetch gradient\n",
    "    loss, dWxh, dWhh, dWhy, dbh, dby, hprev = lossF(inputs, targets, hprev)\n",
    "    smooth_loss = smooth_loss * 0.999 + loss * 0.001\n",
    "\n",
    "    # sample from the model now and then\n",
    "    if n % 1000 == 0:\n",
    "        print(f'iter {n}, loss: {smooth_loss:.2f}') # print progress\n",
    "        sample(hprev, inputs[0], 200, plot=False)\n",
    "\n",
    "    # perform parameter update with Adagrad\n",
    "    for param, dparam, mem in zip([Wxh, Whh, Why, bh, by],\n",
    "                                  [dWxh, dWhh, dWhy, dbh, dby],\n",
    "                                  [mWxh, mWhh, mWhy, mbh, mby]):\n",
    "        mem += dparam * dparam # increases memory variable, which decreases learning rate\n",
    "        param += -learning_rate * dparam / np.sqrt(mem + 1e-8) # adagrad update\n",
    "\n",
    "    p += seq_length # move data pointer\n",
    "    n += 1 # iteration counter"
   ]
  },
  {
   "cell_type": "markdown",
   "metadata": {},
   "source": [
    "## result\n",
    "\n",
    "Let's create a function which displays our work more beautifully!"
   ]
  },
  {
   "cell_type": "code",
   "execution_count": 11,
   "metadata": {},
   "outputs": [],
   "source": [
    "def tell_a_story(beginning, n):\n",
    "    \"\"\"\n",
    "    write a story of length n with the given beginning\n",
    "    beginning is a string\n",
    "    n is an integer\n",
    "    \"\"\"\n",
    "    h = np.zeros((hidden_size, 1)) # start with hidden state zero\n",
    "    # build hidden state from beginning\n",
    "    for char in beginning[:-1]:\n",
    "        # create input vector\n",
    "        x = vec_from_char(char)\n",
    "        h = np.tanh(np.dot(Wxh, x) + np.dot(Whh, h) + bh)\n",
    "        # we don't need to calculate y and p as we are \n",
    "        # just building up the hidden state\n",
    "        \n",
    "    # print of function is story\n",
    "    story = beginning\n",
    "    x = vec_from_char(beginning[-1])\n",
    "    for t in range(n):\n",
    "        # predict\n",
    "        h = np.tanh(np.dot(Wxh, x) + np.dot(Whh, h) + bh)\n",
    "        y = np.dot(Why, h) + by\n",
    "        p = np.exp(y) / np.sum(np.exp(y))\n",
    "        # set prediction\n",
    "        char = ix_to_char[np.random.choice(range(vocab_size), p=p.ravel())]\n",
    "        story += char\n",
    "        # set new x to this time's prediction\n",
    "        x = vec_from_char(char)\n",
    "        \n",
    "    print(story)"
   ]
  },
  {
   "cell_type": "code",
   "execution_count": 14,
   "metadata": {},
   "outputs": [
    {
     "name": "stdout",
     "output_type": "stream",
     "text": [
      "  ARMA virumque canorem, qui regea capis\n",
      "  insustum Guris adveribus altero talis,, sissi dum comum\n",
      "  ieserius, patrunt illue prnorus, quaeterit\n",
      "  salius urat--' Allucerior ac tergent aeter et virere dacre fircet enos,\n",
      "  modine prosaborsa anus urbe audaque et fecoliis admour pirmine masso, cumproro\n",
      "  Tenis\n",
      "  dito camerem nuverat, exat parrpit Gitetiens impiateres;\n",
      "  ux, siseremque perditur haurupe\n",
      "  pora saca replomediusque octes,\n",
      "  et omis,\n",
      ", primo mivi egileante cramis ic voce mini cocristam, suin et eb orbitersis, ersus aunti, ignare mutra sdindis:\n",
      "  forroqiam tanum\n",
      "  et comorrisque restixine Trulames, heves, fypfluat\n",
      "  cridipe tani; aucama furgum fucidas\n",
      "  excurngunt\n",
      "  camporis et facum ritan inserricuis mallusque aerus ceriiscum\n",
      "  erona quam stimus proea canu copus,\n",
      "  quid mora hamnia peditur, seres mecuia cur coneri.\n",
      "  He pitis et moentia Teulasque orbaque turium corredi, aorra donitere, soriabis\n",
      "  nae et victurer; agerum\n",
      "  dis semptes, peria subeltis Daens et eter.\n",
      "  Malla capluma monte quec et Eyde\n"
     ]
    }
   ],
   "source": [
    "tell_a_story('  ARMA virumque cano', 1000)"
   ]
  },
  {
   "cell_type": "code",
   "execution_count": null,
   "metadata": {},
   "outputs": [],
   "source": []
  }
 ],
 "metadata": {
  "kernelspec": {
   "display_name": "Python 3",
   "language": "python",
   "name": "python3"
  },
  "language_info": {
   "codemirror_mode": {
    "name": "ipython",
    "version": 3
   },
   "file_extension": ".py",
   "mimetype": "text/x-python",
   "name": "python",
   "nbconvert_exporter": "python",
   "pygments_lexer": "ipython3",
   "version": "3.7.1"
  }
 },
 "nbformat": 4,
 "nbformat_minor": 2
}
